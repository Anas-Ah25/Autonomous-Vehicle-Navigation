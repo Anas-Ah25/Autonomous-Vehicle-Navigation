{
  "cells": [
    {
      "cell_type": "markdown",
      "metadata": {
        "id": "view-in-github",
        "colab_type": "text"
      },
      "source": [
        "<a href=\"https://colab.research.google.com/github/Anas-Ah25/Autonomous-Vehicle-Navigation/blob/Anas-Ah25-patch-1/CSAI301_Project_Phase1.ipynb\" target=\"_parent\"><img src=\"https://colab.research.google.com/assets/colab-badge.svg\" alt=\"Open In Colab\"/></a>"
      ]
    },
    {
      "cell_type": "markdown",
      "source": [
        "# CSAI 301 - Phase 1\n",
        "\n",
        "\n",
        "1.   `Anas Ahmad Abdelsalam`   |  2.   `Ahmed Foda`\n",
        "\n",
        "3.   `Mohamed Ehab Yousri` |  4.   `Ameen`\n",
        "\n",
        "\n",
        "\n",
        "\n",
        "\n",
        "\n",
        "\n"
      ],
      "metadata": {
        "id": "FzSwAJ6acaoE"
      }
    },
    {
      "cell_type": "code",
      "execution_count": 1,
      "metadata": {
        "id": "axsIFWr2cYfs"
      },
      "outputs": [],
      "source": [
        "import numpy as np\n",
        "import matplotlib.pyplot as plt"
      ]
    },
    {
      "cell_type": "code",
      "source": [],
      "metadata": {
        "id": "s2B4kaBtdUmj"
      },
      "execution_count": 1,
      "outputs": []
    },
    {
      "cell_type": "markdown",
      "source": [
        "# Problem Modeling"
      ],
      "metadata": {
        "id": "fAweD49fdfaC"
      }
    },
    {
      "cell_type": "markdown",
      "source": [
        "`Search Space`"
      ],
      "metadata": {
        "id": "SwYqjpbCdqcV"
      }
    },
    {
      "cell_type": "code",
      "execution_count": 2,
      "metadata": {
        "colab": {
          "base_uri": "https://localhost:8080/"
        },
        "id": "2KPPXfx2cYfv",
        "outputId": "eda2da03-5e0c-46da-f892-9591462ad37e"
      },
      "outputs": [
        {
          "output_type": "execute_result",
          "data": {
            "text/plain": [
              "array([[0., 0., 0., 0., 0., 0., 0., 0., 0., 0.],\n",
              "       [0., 0., 0., 0., 0., 0., 0., 0., 0., 0.],\n",
              "       [0., 0., 0., 0., 0., 0., 0., 0., 0., 0.],\n",
              "       [0., 0., 0., 0., 0., 0., 0., 0., 0., 0.],\n",
              "       [0., 0., 0., 0., 0., 0., 0., 0., 0., 0.],\n",
              "       [0., 0., 0., 0., 0., 0., 0., 0., 0., 0.],\n",
              "       [0., 0., 0., 0., 0., 0., 0., 0., 0., 0.],\n",
              "       [0., 0., 0., 0., 0., 0., 0., 0., 0., 0.],\n",
              "       [0., 0., 0., 0., 0., 0., 0., 0., 0., 0.],\n",
              "       [0., 0., 0., 0., 0., 0., 0., 0., 0., 0.]])"
            ]
          },
          "metadata": {},
          "execution_count": 2
        }
      ],
      "source": [
        "# define a grid which will be assigned with values\n",
        "grid = np.zeros((10,10))\n",
        "grid"
      ]
    },
    {
      "cell_type": "code",
      "execution_count": 3,
      "metadata": {
        "colab": {
          "base_uri": "https://localhost:8080/"
        },
        "id": "EVpUmlG-cYfx",
        "outputId": "c53b9d74-254e-412e-e263-0c0cf1d0a261"
      },
      "outputs": [
        {
          "output_type": "execute_result",
          "data": {
            "text/plain": [
              "array([[1., 1., 1., 1., 1., 1., 1., 1., 1., 1.],\n",
              "       [0., 0., 0., 0., 0., 0., 0., 0., 0., 1.],\n",
              "       [0., 0., 0., 0., 0., 0., 0., 0., 0., 1.],\n",
              "       [0., 0., 0., 0., 0., 0., 0., 0., 0., 1.],\n",
              "       [0., 0., 0., 0., 0., 0., 0., 0., 0., 1.],\n",
              "       [1., 1., 1., 1., 1., 1., 1., 1., 1., 1.],\n",
              "       [0., 0., 1., 1., 1., 1., 0., 0., 0., 0.],\n",
              "       [0., 0., 0., 0., 1., 0., 0., 0., 0., 0.],\n",
              "       [0., 0., 0., 0., 1., 0., 0., 0., 0., 0.],\n",
              "       [1., 1., 1., 1., 1., 1., 1., 1., 1., 1.]])"
            ]
          },
          "metadata": {},
          "execution_count": 3
        }
      ],
      "source": [
        "#  make a street in the grid by putting obstacles\n",
        "start = (9, 0)\n",
        "goal = (0, 9)\n",
        "Moves = [(0, 1),(0, -1),(1, 0),(-1, 0)]\n",
        "\n",
        "# streets\n",
        "# 0 is the obstacles, 1 is the streets\n",
        "grid[0,:] = 1  # row 10\n",
        "grid[1:5,9] = 1  # Vertical line from 1 to row 6\n",
        "grid[5,:] = 1   # Horizontal path in row 5\n",
        "grid[6, 2:6] = 1 # Horizontal path in row 6\n",
        "grid[7:9,4] = 1 # Vertical from 6 to row 10\n",
        "grid[9,:] = 1 # row 10\n",
        "\n",
        "grid"
      ]
    },
    {
      "cell_type": "markdown",
      "source": [
        "`Visualizing the Search Space`"
      ],
      "metadata": {
        "id": "rPcz6SrOdwIO"
      }
    },
    {
      "cell_type": "code",
      "execution_count": 4,
      "metadata": {
        "colab": {
          "base_uri": "https://localhost:8080/",
          "height": 545
        },
        "id": "6Tf5oehecYfz",
        "outputId": "0db9aa9f-88cd-4890-c982-6d2cd192cafc"
      },
      "outputs": [
        {
          "output_type": "display_data",
          "data": {
            "text/plain": [
              "<Figure size 600x600 with 1 Axes>"
            ],
            "image/png": "[encoded data removed]"
          },
          "metadata": {}
        }
      ],
      "source": [
        "plt.figure(figsize=(6, 6))\n",
        "plt.imshow(grid, cmap=\"gray_r\")\n",
        "plt.scatter(start[1], start[0], color=\"green\", label=\"Start\")\n",
        "plt.scatter(goal[1], goal[0], color=\"red\", label=\"Goal\")\n",
        "plt.legend()\n",
        "plt.title(\"Map\")\n",
        "plt.show()"
      ]
    },
    {
      "cell_type": "markdown",
      "source": [
        "`Initial Cost Logic (Heuristic Design)`"
      ],
      "metadata": {
        "id": "Ax2_KXRFeAZi"
      }
    },
    {
      "cell_type": "code",
      "execution_count": 5,
      "metadata": {
        "colab": {
          "base_uri": "https://localhost:8080/"
        },
        "id": "BIoU0saJcYf1",
        "outputId": "80e81bf3-5def-4ea3-d085-6699b4b63902"
      },
      "outputs": [
        {
          "output_type": "stream",
          "name": "stdout",
          "text": [
            "{(0, 0): 9, (0, 1): 8, (0, 2): 7, (0, 3): 6, (0, 4): 5, (0, 5): 4, (0, 6): 3, (0, 7): 2, (0, 8): 1, (0, 9): 0, (1, 0): 10, (1, 1): 9, (1, 2): 8, (1, 3): 7, (1, 4): 6, (1, 5): 5, (1, 6): 4, (1, 7): 3, (1, 8): 2, (1, 9): 1, (2, 0): 11, (2, 1): 10, (2, 2): 9, (2, 3): 8, (2, 4): 7, (2, 5): 6, (2, 6): 5, (2, 7): 4, (2, 8): 3, (2, 9): 2, (3, 0): 12, (3, 1): 11, (3, 2): 10, (3, 3): 9, (3, 4): 8, (3, 5): 7, (3, 6): 6, (3, 7): 5, (3, 8): 4, (3, 9): 3, (4, 0): 13, (4, 1): 12, (4, 2): 11, (4, 3): 10, (4, 4): 9, (4, 5): 8, (4, 6): 7, (4, 7): 6, (4, 8): 5, (4, 9): 4, (5, 0): 14, (5, 1): 13, (5, 2): 12, (5, 3): 11, (5, 4): 10, (5, 5): 9, (5, 6): 8, (5, 7): 7, (5, 8): 6, (5, 9): 5, (6, 0): 15, (6, 1): 14, (6, 2): 13, (6, 3): 12, (6, 4): 11, (6, 5): 10, (6, 6): 9, (6, 7): 8, (6, 8): 7, (6, 9): 6, (7, 0): 16, (7, 1): 15, (7, 2): 14, (7, 3): 13, (7, 4): 12, (7, 5): 11, (7, 6): 10, (7, 7): 9, (7, 8): 8, (7, 9): 7, (8, 0): 17, (8, 1): 16, (8, 2): 15, (8, 3): 14, (8, 4): 13, (8, 5): 12, (8, 6): 11, (8, 7): 10, (8, 8): 9, (8, 9): 8, (9, 0): 18, (9, 1): 17, (9, 2): 16, (9, 3): 15, (9, 4): 14, (9, 5): 13, (9, 6): 12, (9, 7): 11, (9, 8): 10, (9, 9): 9}\n"
          ]
        }
      ],
      "source": [
        "# make huristic value for each point from goal, i will use manhattan distance as we took\n",
        "def hurestic(x,y,g):\n",
        "    return abs(x-g[0])+abs(y-g[1])\n",
        "points_values = {}\n",
        "\n",
        "for x in range(grid.shape[0]):\n",
        "    for y in range(grid.shape[1]):\n",
        "        points_values[(x, y)] = hurestic(x,y,goal)\n",
        "print(points_values)"
      ]
    },
    {
      "cell_type": "markdown",
      "source": [
        "`BFS`"
      ],
      "metadata": {
        "id": "8v6tH66xeUuf"
      }
    },
    {
      "cell_type": "code",
      "execution_count": 12,
      "metadata": {
        "colab": {
          "base_uri": "https://localhost:8080/"
        },
        "id": "No-cTuaccYf2",
        "outputId": "781f4224-46d8-449a-da59-fb0d16e68b60"
      },
      "outputs": [
        {
          "output_type": "execute_result",
          "data": {
            "text/plain": [
              "[(9, 0),\n",
              " (9, 1),\n",
              " (9, 2),\n",
              " (9, 3),\n",
              " (9, 4),\n",
              " (8, 4),\n",
              " (7, 4),\n",
              " (6, 4),\n",
              " (6, 5),\n",
              " (5, 5),\n",
              " (5, 6),\n",
              " (5, 7),\n",
              " (5, 8),\n",
              " (5, 9),\n",
              " (4, 9),\n",
              " (3, 9),\n",
              " (2, 9),\n",
              " (1, 9),\n",
              " (0, 9)]"
            ]
          },
          "metadata": {},
          "execution_count": 12
        }
      ],
      "source": [
        "# --------------------------------------  DFS ---------------------------------------------------------\n",
        "# use bfs on the grid to find the path, use huristic values as cost\n",
        "def bfs(grid, start, goal):\n",
        "    queue = [start]\n",
        "    visited = set()\n",
        "    parent = {}\n",
        "    parent[start] = None\n",
        "    while queue:\n",
        "        current = queue.pop(0)\n",
        "        if current == goal:\n",
        "            break\n",
        "        visited.add(current)\n",
        "        for i, j in Moves:\n",
        "            new_x, new_y = current[0] + i, current[1] + j\n",
        "            if 0 <= new_x < grid.shape[0] and 0 <= new_y < grid.shape[1] and grid[new_x, new_y] == 1 and (new_x, new_y) not in visited:\n",
        "                queue.append((new_x, new_y))\n",
        "                visited.add((new_x, new_y))\n",
        "                parent[(new_x, new_y)] = current\n",
        "    path = []\n",
        "    while current:\n",
        "        path.append(current)\n",
        "        current = parent[current]\n",
        "    return path[::-1]\n",
        "\n",
        "# --------------------------------------------------------------------------------------------------------\n",
        "# test the function\n",
        "path = bfs(grid,start,goal)\n",
        "path"
      ]
    },
    {
      "cell_type": "markdown",
      "source": [
        "`Result`"
      ],
      "metadata": {
        "id": "n0i_I2O8eaBR"
      }
    },
    {
      "cell_type": "code",
      "execution_count": 7,
      "metadata": {
        "colab": {
          "base_uri": "https://localhost:8080/",
          "height": 545
        },
        "id": "QeGjLhZKcYf3",
        "outputId": "822908f9-72bc-4e2a-d7a6-79439148d018"
      },
      "outputs": [
        {
          "output_type": "display_data",
          "data": {
            "text/plain": [
              "<Figure size 600x600 with 1 Axes>"
            ],
            "image/png": "[encoded data removed]"
          },
          "metadata": {}
        }
      ],
      "source": [
        "plt.figure(figsize=(6, 6))\n",
        "plt.imshow(grid, cmap=\"gray_r\")\n",
        "plt.scatter(start[1], start[0], color=\"green\", label=\"Start\")\n",
        "plt.scatter(goal[1], goal[0], color=\"red\", label=\"Goal\")\n",
        "path = np.array(path)\n",
        "for i in range(1,path.shape[0]-1):\n",
        "    plt.scatter(path[i, 1], path[i, 0], color=\"blue\")\n",
        "plt.legend()\n",
        "plt.title(\"Map\")\n",
        "plt.show()"
      ]
    },
    {
      "cell_type": "markdown",
      "source": [
        "`DFS`"
      ],
      "metadata": {
        "id": "je1IFpAsewuc"
      }
    },
    {
      "cell_type": "code",
      "source": [
        "# --------------------------------------  DFS ---------------------------------------------------------\n",
        "def dfs(grid, start, goal):\n",
        "    stack = [start]\n",
        "    visited = set()\n",
        "    parent = {}\n",
        "    parent[start] = None\n",
        "    while stack:\n",
        "        current = stack.pop()\n",
        "        if current == goal:\n",
        "            break\n",
        "        visited.add(current)\n",
        "        for i, j in Moves:\n",
        "            new_x, new_y = current[0] + i, current[1] + j\n",
        "            if 0 <= new_x < grid.shape[0] and 0 <= new_y < grid.shape[1] and grid[new_x, new_y] == 1 and (new_x, new_y) not in visited:\n",
        "                stack.append((new_x, new_y))\n",
        "                visited.add((new_x, new_y))\n",
        "                parent[(new_x, new_y)] = current\n",
        "    path = []\n",
        "    while current:\n",
        "        path.append(current)\n",
        "        current = parent[current]\n",
        "    return path[::-1]\n",
        "path_dfs = dfs(grid,start,goal)"
      ],
      "metadata": {
        "id": "eeO2j2HLewNY"
      },
      "execution_count": 8,
      "outputs": []
    },
    {
      "cell_type": "code",
      "source": [
        "path_dfs"
      ],
      "metadata": {
        "colab": {
          "base_uri": "https://localhost:8080/"
        },
        "id": "CXwit7QFfGOX",
        "outputId": "ccc39c32-319c-4108-ecd2-898548449a93"
      },
      "execution_count": 16,
      "outputs": [
        {
          "output_type": "execute_result",
          "data": {
            "text/plain": [
              "[(9, 0),\n",
              " (9, 1),\n",
              " (9, 2),\n",
              " (9, 3),\n",
              " (9, 4),\n",
              " (8, 4),\n",
              " (7, 4),\n",
              " (6, 4),\n",
              " (5, 4),\n",
              " (5, 5),\n",
              " (5, 6),\n",
              " (5, 7),\n",
              " (5, 8),\n",
              " (5, 9),\n",
              " (4, 9),\n",
              " (3, 9),\n",
              " (2, 9),\n",
              " (1, 9),\n",
              " (0, 9)]"
            ]
          },
          "metadata": {},
          "execution_count": 16
        }
      ]
    },
    {
      "cell_type": "code",
      "source": [
        "plt.figure(figsize=(6, 6))\n",
        "plt.imshow(grid, cmap=\"gray_r\")\n",
        "plt.scatter(start[1], start[0], color=\"green\", label=\"Start\")\n",
        "plt.scatter(goal[1], goal[0], color=\"red\", label=\"Goal\")\n",
        "path = np.array(path)\n",
        "for i in range(1,len(path_dfs)-1):\n",
        "    plt.scatter(path_dfs[i][1], path_dfs[i][0], color=\"blue\")\n",
        "plt.legend()\n",
        "plt.title(\"Map\")\n",
        "plt.show()"
      ],
      "metadata": {
        "colab": {
          "base_uri": "https://localhost:8080/",
          "height": 545
        },
        "id": "JgZl89BKe1hj",
        "outputId": "d1a7700b-8ec9-473e-d577-a2df166237bb"
      },
      "execution_count": 18,
      "outputs": [
        {
          "output_type": "display_data",
          "data": {
            "text/plain": [
              "<Figure size 600x600 with 1 Axes>"
            ],
            "image/png": "[encoded data removed]"
          },
          "metadata": {}
        }
      ]
    }
  ],
  "metadata": {
    "kernelspec": {
      "display_name": "Python 3",
      "language": "python",
      "name": "python3"
    },
    "language_info": {
      "codemirror_mode": {
        "name": "ipython",
        "version": 3
      },
      "file_extension": ".py",
      "mimetype": "text/x-python",
      "name": "python",
      "nbconvert_exporter": "python",
      "pygments_lexer": "ipython3",
      "version": "3.12.3"
    },
    "colab": {
      "provenance": [],
      "include_colab_link": true
    }
  },
  "nbformat": 4,
  "nbformat_minor": 0
}
